{
 "cells": [
  {
   "cell_type": "code",
   "execution_count": 5,
   "id": "9a5c90a5-5940-43aa-bc2b-639f239aceff",
   "metadata": {
    "tags": []
   },
   "outputs": [],
   "source": [
    "import numpy as np \n",
    "import pandas as pd \n",
    "import matplotlib.pyplot as plt \n",
    "import duckdb"
   ]
  },
  {
   "cell_type": "code",
   "execution_count": 37,
   "id": "58054bd5-bf68-49b9-8a64-9185ff7b1de8",
   "metadata": {
    "tags": []
   },
   "outputs": [],
   "source": [
    "import warnings \n",
    "warnings.filterwarnings('ignore')"
   ]
  },
  {
   "cell_type": "code",
   "execution_count": 7,
   "id": "0e865d9d-8dc2-48e5-bba6-ed655ef92160",
   "metadata": {
    "tags": []
   },
   "outputs": [],
   "source": [
    "path_train = 'train.parquet'"
   ]
  },
  {
   "cell_type": "markdown",
   "id": "beb9b59b-fd9a-43cb-a112-69f73208ce0c",
   "metadata": {
    "tags": []
   },
   "source": [
    "### Exploratory data analysis"
   ]
  },
  {
   "cell_type": "code",
   "execution_count": 121,
   "id": "5635ba30-7ad1-4f96-acca-dbf201c8f479",
   "metadata": {
    "tags": []
   },
   "outputs": [
    {
     "data": {
      "text/plain": [
       "┌───────────┬──────────────┬───────┐\n",
       "│ count(id) │ protein_name │ binds │\n",
       "│   int64   │   varchar    │ int64 │\n",
       "├───────────┼──────────────┼───────┤\n",
       "│  97958646 │ BRD4         │     0 │\n",
       "│    456964 │ BRD4         │     1 │\n",
       "│  98007200 │ HSA          │     0 │\n",
       "│    408410 │ HSA          │     1 │\n",
       "│  97691078 │ sEH          │     0 │\n",
       "│    724532 │ sEH          │     1 │\n",
       "└───────────┴──────────────┴───────┘"
      ]
     },
     "execution_count": 121,
     "metadata": {},
     "output_type": "execute_result"
    }
   ],
   "source": [
    "con = duckdb.connect()\n",
    "\n",
    "# counts grouped\n",
    "\n",
    "con.query(f\"\"\"SELECT COUNT(id), protein_name, binds\n",
    "                FROM parquet_scan('{path_train}')\n",
    "                GROUP BY (protein_name, binds)\n",
    "                ORDER BY (protein_name, binds)\"\"\")"
   ]
  },
  {
   "cell_type": "code",
   "execution_count": 125,
   "id": "ba95a70a-ad81-43cc-a655-b5d3d994c162",
   "metadata": {
    "tags": []
   },
   "outputs": [
    {
     "data": {
      "application/vnd.jupyter.widget-view+json": {
       "model_id": "5daef8c4f52449ddb4eed92d7dd68f0c",
       "version_major": 2,
       "version_minor": 0
      },
      "text/plain": [
       "FloatProgress(value=0.0, layout=Layout(width='auto'), style=ProgressStyle(bar_color='black'))"
      ]
     },
     "metadata": {},
     "output_type": "display_data"
    },
    {
     "data": {
      "text/plain": [
       "┌────────────────────┐\n",
       "│ count(DISTINCT id) │\n",
       "│       int64        │\n",
       "├────────────────────┤\n",
       "│          295246830 │\n",
       "└────────────────────┘"
      ]
     },
     "execution_count": 125,
     "metadata": {},
     "output_type": "execute_result"
    }
   ],
   "source": [
    "con.query(f\"\"\"SELECT COUNT(DISTINCT id) FROM parquet_scan('{path_train}')\"\"\")"
   ]
  },
  {
   "cell_type": "code",
   "execution_count": 127,
   "id": "197a1feb-7f5a-4215-bc0c-6d7f0424dae3",
   "metadata": {
    "tags": []
   },
   "outputs": [
    {
     "data": {
      "application/vnd.jupyter.widget-view+json": {
       "model_id": "44c2aa963f55450cafa70dfee178e1ed",
       "version_major": 2,
       "version_minor": 0
      },
      "text/plain": [
       "FloatProgress(value=0.0, layout=Layout(width='auto'), style=ProgressStyle(bar_color='black'))"
      ]
     },
     "metadata": {},
     "output_type": "display_data"
    },
    {
     "data": {
      "text/plain": [
       "┌─────────────────────────────────┐\n",
       "│ count(DISTINCT molecule_smiles) │\n",
       "│              int64              │\n",
       "├─────────────────────────────────┤\n",
       "│                        98415610 │\n",
       "└─────────────────────────────────┘"
      ]
     },
     "execution_count": 127,
     "metadata": {},
     "output_type": "execute_result"
    }
   ],
   "source": [
    "con.query(f\"\"\"SELECT COUNT(DISTINCT molecule_smiles) FROM parquet_scan('{path_train}')\"\"\")"
   ]
  },
  {
   "cell_type": "code",
   "execution_count": null,
   "id": "f030602d-6e82-4fe9-bea2-f6bc03eaec97",
   "metadata": {},
   "outputs": [],
   "source": [
    "con.query(f\"\"\"SELECT COUNT(DISTINCT molecule_smiles) FROM parquet_scan(''))"
   ]
  },
  {
   "cell_type": "markdown",
   "id": "54d25ec3-636b-4e69-b935-2b8d5474d73f",
   "metadata": {
    "tags": []
   },
   "source": [
    "### Simple first model"
   ]
  },
  {
   "cell_type": "markdown",
   "id": "13878ad1-2c61-4f84-b2d8-52db8a6e4293",
   "metadata": {},
   "source": [
    "For the first pass, I will make a classifier to predict whether a molecule will bind to BRD4 (1 of 3 target proteins in this dataset). Given BRD4, HSA, and sEH are different proteins, it *might* be better to make 3 models instead of a general one. \n",
    "\n",
    "I will use some of the dataset, artificially balancing the data by choosing the same number of rows for bind=0 and bind=1 for BRD4 (30,000 rows each; in the full dataset, 456964 molecules bind to BRD4."
   ]
  },
  {
   "cell_type": "code",
   "execution_count": 9,
   "id": "fceeee88-e27a-43d2-b526-e5958d06da55",
   "metadata": {},
   "outputs": [
    {
     "data": {
      "application/vnd.jupyter.widget-view+json": {
       "model_id": "496b27175baf471296a4ef2471304e4a",
       "version_major": 2,
       "version_minor": 0
      },
      "text/plain": [
       "FloatProgress(value=0.0, layout=Layout(width='auto'), style=ProgressStyle(bar_color='black'))"
      ]
     },
     "metadata": {},
     "output_type": "display_data"
    }
   ],
   "source": [
    "with duckdb.connect() as con:\n",
    "    df = con.query(f\"\"\"(SELECT * \n",
    "                        FROM parquet_scan('{path_train}')\n",
    "                        WHERE protein_name = 'BRD4' AND binds = 1\n",
    "                        ORDER BY RANDOM()\n",
    "                        LIMIT 30000) \n",
    "                        UNION ALL \n",
    "                        (SELECT * \n",
    "                        FROM parquet_scan('{path_train}')\n",
    "                        WHERE protein_name = 'BRD4' AND binds = 0\n",
    "                        ORDER BY RANDOM()\n",
    "                        LIMIT 30000)\"\"\").df()"
   ]
  },
  {
   "cell_type": "code",
   "execution_count": 11,
   "id": "35628ecd-9011-48f4-89c9-229ace4eb497",
   "metadata": {
    "tags": []
   },
   "outputs": [],
   "source": [
    "pd.set_option('display.max_columns', None)"
   ]
  },
  {
   "cell_type": "code",
   "execution_count": 13,
   "id": "41852b22-b159-4440-b466-b7e923ee67cd",
   "metadata": {
    "tags": []
   },
   "outputs": [
    {
     "data": {
      "text/html": [
       "<div>\n",
       "<style scoped>\n",
       "    .dataframe tbody tr th:only-of-type {\n",
       "        vertical-align: middle;\n",
       "    }\n",
       "\n",
       "    .dataframe tbody tr th {\n",
       "        vertical-align: top;\n",
       "    }\n",
       "\n",
       "    .dataframe thead th {\n",
       "        text-align: right;\n",
       "    }\n",
       "</style>\n",
       "<table border=\"1\" class=\"dataframe\">\n",
       "  <thead>\n",
       "    <tr style=\"text-align: right;\">\n",
       "      <th></th>\n",
       "      <th>id</th>\n",
       "      <th>buildingblock1_smiles</th>\n",
       "      <th>buildingblock2_smiles</th>\n",
       "      <th>buildingblock3_smiles</th>\n",
       "      <th>molecule_smiles</th>\n",
       "      <th>protein_name</th>\n",
       "      <th>binds</th>\n",
       "    </tr>\n",
       "  </thead>\n",
       "  <tbody>\n",
       "    <tr>\n",
       "      <th>0</th>\n",
       "      <td>255104868</td>\n",
       "      <td>O=C(O)C[C@@H](NC(=O)OCC1c2ccccc2-c2ccccc21)c1c...</td>\n",
       "      <td>CNC(=O)c1ccc(N)cc1F</td>\n",
       "      <td>Nc1cc(Br)ccn1</td>\n",
       "      <td>CNC(=O)c1ccc(Nc2nc(Nc3cc(Br)ccn3)nc(N[C@H](CC(...</td>\n",
       "      <td>BRD4</td>\n",
       "      <td>1</td>\n",
       "    </tr>\n",
       "    <tr>\n",
       "      <th>1</th>\n",
       "      <td>74421894</td>\n",
       "      <td>O=C(NC(Cc1ccccc1)C(=O)O)OCC1c2ccccc2-c2ccccc21</td>\n",
       "      <td>Cc1c(N)cccc1F</td>\n",
       "      <td>Nc1cc(Cl)c(O)c(Cl)c1</td>\n",
       "      <td>Cc1c(F)cccc1Nc1nc(Nc2cc(Cl)c(O)c(Cl)c2)nc(NC(C...</td>\n",
       "      <td>BRD4</td>\n",
       "      <td>1</td>\n",
       "    </tr>\n",
       "    <tr>\n",
       "      <th>2</th>\n",
       "      <td>39088515</td>\n",
       "      <td>COc1cccc(C(=O)O)c1NC(=O)OCC1c2ccccc2-c2ccccc21</td>\n",
       "      <td>Nc1ccc2c(c1)CNC2=O</td>\n",
       "      <td>NCc1nc2c(s1)CCCC2</td>\n",
       "      <td>COc1cccc(C(=O)N[Dy])c1Nc1nc(NCc2nc3c(s2)CCCC3)...</td>\n",
       "      <td>BRD4</td>\n",
       "      <td>1</td>\n",
       "    </tr>\n",
       "    <tr>\n",
       "      <th>3</th>\n",
       "      <td>200252673</td>\n",
       "      <td>O=C(Nc1ccc(Cl)nc1C(=O)O)OCC1c2ccccc2-c2ccccc21</td>\n",
       "      <td>Nc1cc(N2CCNCC2)ccc1[N+](=O)[O-]</td>\n",
       "      <td>Nc1cc[nH]c(=O)n1</td>\n",
       "      <td>O=C(N[Dy])c1nc(Cl)ccc1Nc1nc(Nc2cc[nH]c(=O)n2)n...</td>\n",
       "      <td>BRD4</td>\n",
       "      <td>1</td>\n",
       "    </tr>\n",
       "    <tr>\n",
       "      <th>4</th>\n",
       "      <td>17697678</td>\n",
       "      <td>CC(C)CC(NC(=O)OCC1c2ccccc2-c2ccccc21)C(=O)O</td>\n",
       "      <td>COc1ccc(N)cc1OC</td>\n",
       "      <td>Cl.Cl.NCc1ccc(-n2cncn2)cc1</td>\n",
       "      <td>COc1ccc(Nc2nc(NCc3ccc(-n4cncn4)cc3)nc(NC(CC(C)...</td>\n",
       "      <td>BRD4</td>\n",
       "      <td>1</td>\n",
       "    </tr>\n",
       "  </tbody>\n",
       "</table>\n",
       "</div>"
      ],
      "text/plain": [
       "          id                              buildingblock1_smiles  \\\n",
       "0  255104868  O=C(O)C[C@@H](NC(=O)OCC1c2ccccc2-c2ccccc21)c1c...   \n",
       "1   74421894     O=C(NC(Cc1ccccc1)C(=O)O)OCC1c2ccccc2-c2ccccc21   \n",
       "2   39088515     COc1cccc(C(=O)O)c1NC(=O)OCC1c2ccccc2-c2ccccc21   \n",
       "3  200252673     O=C(Nc1ccc(Cl)nc1C(=O)O)OCC1c2ccccc2-c2ccccc21   \n",
       "4   17697678        CC(C)CC(NC(=O)OCC1c2ccccc2-c2ccccc21)C(=O)O   \n",
       "\n",
       "             buildingblock2_smiles       buildingblock3_smiles  \\\n",
       "0              CNC(=O)c1ccc(N)cc1F               Nc1cc(Br)ccn1   \n",
       "1                    Cc1c(N)cccc1F        Nc1cc(Cl)c(O)c(Cl)c1   \n",
       "2               Nc1ccc2c(c1)CNC2=O           NCc1nc2c(s1)CCCC2   \n",
       "3  Nc1cc(N2CCNCC2)ccc1[N+](=O)[O-]            Nc1cc[nH]c(=O)n1   \n",
       "4                  COc1ccc(N)cc1OC  Cl.Cl.NCc1ccc(-n2cncn2)cc1   \n",
       "\n",
       "                                     molecule_smiles protein_name  binds  \n",
       "0  CNC(=O)c1ccc(Nc2nc(Nc3cc(Br)ccn3)nc(N[C@H](CC(...         BRD4      1  \n",
       "1  Cc1c(F)cccc1Nc1nc(Nc2cc(Cl)c(O)c(Cl)c2)nc(NC(C...         BRD4      1  \n",
       "2  COc1cccc(C(=O)N[Dy])c1Nc1nc(NCc2nc3c(s2)CCCC3)...         BRD4      1  \n",
       "3  O=C(N[Dy])c1nc(Cl)ccc1Nc1nc(Nc2cc[nH]c(=O)n2)n...         BRD4      1  \n",
       "4  COc1ccc(Nc2nc(NCc3ccc(-n4cncn4)cc3)nc(NC(CC(C)...         BRD4      1  "
      ]
     },
     "execution_count": 13,
     "metadata": {},
     "output_type": "execute_result"
    }
   ],
   "source": [
    "df.head()"
   ]
  },
  {
   "cell_type": "code",
   "execution_count": 17,
   "id": "e61ae208-14fd-4701-842c-1b4e181fbfca",
   "metadata": {
    "tags": []
   },
   "outputs": [
    {
     "data": {
      "text/plain": [
       "binds\n",
       "0    30000\n",
       "1    30000\n",
       "Name: id, dtype: int64"
      ]
     },
     "execution_count": 17,
     "metadata": {},
     "output_type": "execute_result"
    }
   ],
   "source": [
    "df.groupby('binds')['id'].count()"
   ]
  },
  {
   "cell_type": "code",
   "execution_count": 19,
   "id": "d688b037-522e-4762-b05a-64053d6d90e3",
   "metadata": {
    "tags": []
   },
   "outputs": [
    {
     "data": {
      "text/plain": [
       "271"
      ]
     },
     "execution_count": 19,
     "metadata": {},
     "output_type": "execute_result"
    }
   ],
   "source": [
    "df['buildingblock1_smiles'].nunique()"
   ]
  },
  {
   "cell_type": "code",
   "execution_count": 21,
   "id": "0d3a41af-560a-4369-8804-08382138898c",
   "metadata": {
    "tags": []
   },
   "outputs": [
    {
     "data": {
      "text/plain": [
       "693"
      ]
     },
     "execution_count": 21,
     "metadata": {},
     "output_type": "execute_result"
    }
   ],
   "source": [
    "df['buildingblock2_smiles'].nunique()"
   ]
  },
  {
   "cell_type": "code",
   "execution_count": 23,
   "id": "613d6d1f-0b1f-4d2a-a780-d040beaeb713",
   "metadata": {
    "tags": []
   },
   "outputs": [
    {
     "data": {
      "text/plain": [
       "865"
      ]
     },
     "execution_count": 23,
     "metadata": {},
     "output_type": "execute_result"
    }
   ],
   "source": [
    "df['buildingblock3_smiles'].nunique()"
   ]
  },
  {
   "cell_type": "code",
   "execution_count": 25,
   "id": "c4e0e9b8-6a54-48a3-a56c-c5af06c7cb91",
   "metadata": {
    "tags": []
   },
   "outputs": [
    {
     "data": {
      "text/plain": [
       "60000"
      ]
     },
     "execution_count": 25,
     "metadata": {},
     "output_type": "execute_result"
    }
   ],
   "source": [
    "df['molecule_smiles'].nunique()"
   ]
  },
  {
   "cell_type": "code",
   "execution_count": 27,
   "id": "c869bacf-3b4a-4906-9e62-533b6e872329",
   "metadata": {
    "tags": []
   },
   "outputs": [],
   "source": [
    "from rdkit import Chem"
   ]
  },
  {
   "cell_type": "code",
   "execution_count": 81,
   "id": "6f79e979-6a7a-46bf-ac4a-00adb8fb7d3a",
   "metadata": {
    "tags": []
   },
   "outputs": [
    {
     "data": {
      "text/html": [
       "<div>\n",
       "<style scoped>\n",
       "    .dataframe tbody tr th:only-of-type {\n",
       "        vertical-align: middle;\n",
       "    }\n",
       "\n",
       "    .dataframe tbody tr th {\n",
       "        vertical-align: top;\n",
       "    }\n",
       "\n",
       "    .dataframe thead th {\n",
       "        text-align: right;\n",
       "    }\n",
       "</style>\n",
       "<table border=\"1\" class=\"dataframe\">\n",
       "  <thead>\n",
       "    <tr style=\"text-align: right;\">\n",
       "      <th></th>\n",
       "      <th>id</th>\n",
       "      <th>buildingblock1_smiles</th>\n",
       "      <th>buildingblock2_smiles</th>\n",
       "      <th>buildingblock3_smiles</th>\n",
       "      <th>molecule_smiles</th>\n",
       "      <th>protein_name</th>\n",
       "      <th>binds</th>\n",
       "      <th>molecule</th>\n",
       "    </tr>\n",
       "  </thead>\n",
       "  <tbody>\n",
       "    <tr>\n",
       "      <th>0</th>\n",
       "      <td>255104868</td>\n",
       "      <td>O=C(O)C[C@@H](NC(=O)OCC1c2ccccc2-c2ccccc21)c1c...</td>\n",
       "      <td>CNC(=O)c1ccc(N)cc1F</td>\n",
       "      <td>Nc1cc(Br)ccn1</td>\n",
       "      <td>CNC(=O)c1ccc(Nc2nc(Nc3cc(Br)ccn3)nc(N[C@H](CC(...</td>\n",
       "      <td>BRD4</td>\n",
       "      <td>1</td>\n",
       "      <td>&lt;rdkit.Chem.rdchem.Mol object at 0x17aaa0580&gt;</td>\n",
       "    </tr>\n",
       "    <tr>\n",
       "      <th>1</th>\n",
       "      <td>74421894</td>\n",
       "      <td>O=C(NC(Cc1ccccc1)C(=O)O)OCC1c2ccccc2-c2ccccc21</td>\n",
       "      <td>Cc1c(N)cccc1F</td>\n",
       "      <td>Nc1cc(Cl)c(O)c(Cl)c1</td>\n",
       "      <td>Cc1c(F)cccc1Nc1nc(Nc2cc(Cl)c(O)c(Cl)c2)nc(NC(C...</td>\n",
       "      <td>BRD4</td>\n",
       "      <td>1</td>\n",
       "      <td>&lt;rdkit.Chem.rdchem.Mol object at 0x17aaa02e0&gt;</td>\n",
       "    </tr>\n",
       "    <tr>\n",
       "      <th>2</th>\n",
       "      <td>39088515</td>\n",
       "      <td>COc1cccc(C(=O)O)c1NC(=O)OCC1c2ccccc2-c2ccccc21</td>\n",
       "      <td>Nc1ccc2c(c1)CNC2=O</td>\n",
       "      <td>NCc1nc2c(s1)CCCC2</td>\n",
       "      <td>COc1cccc(C(=O)N[Dy])c1Nc1nc(NCc2nc3c(s2)CCCC3)...</td>\n",
       "      <td>BRD4</td>\n",
       "      <td>1</td>\n",
       "      <td>&lt;rdkit.Chem.rdchem.Mol object at 0x17aaa05f0&gt;</td>\n",
       "    </tr>\n",
       "    <tr>\n",
       "      <th>3</th>\n",
       "      <td>200252673</td>\n",
       "      <td>O=C(Nc1ccc(Cl)nc1C(=O)O)OCC1c2ccccc2-c2ccccc21</td>\n",
       "      <td>Nc1cc(N2CCNCC2)ccc1[N+](=O)[O-]</td>\n",
       "      <td>Nc1cc[nH]c(=O)n1</td>\n",
       "      <td>O=C(N[Dy])c1nc(Cl)ccc1Nc1nc(Nc2cc[nH]c(=O)n2)n...</td>\n",
       "      <td>BRD4</td>\n",
       "      <td>1</td>\n",
       "      <td>&lt;rdkit.Chem.rdchem.Mol object at 0x17aaa0660&gt;</td>\n",
       "    </tr>\n",
       "    <tr>\n",
       "      <th>4</th>\n",
       "      <td>17697678</td>\n",
       "      <td>CC(C)CC(NC(=O)OCC1c2ccccc2-c2ccccc21)C(=O)O</td>\n",
       "      <td>COc1ccc(N)cc1OC</td>\n",
       "      <td>Cl.Cl.NCc1ccc(-n2cncn2)cc1</td>\n",
       "      <td>COc1ccc(Nc2nc(NCc3ccc(-n4cncn4)cc3)nc(NC(CC(C)...</td>\n",
       "      <td>BRD4</td>\n",
       "      <td>1</td>\n",
       "      <td>&lt;rdkit.Chem.rdchem.Mol object at 0x17aaa06d0&gt;</td>\n",
       "    </tr>\n",
       "  </tbody>\n",
       "</table>\n",
       "</div>"
      ],
      "text/plain": [
       "          id                              buildingblock1_smiles  \\\n",
       "0  255104868  O=C(O)C[C@@H](NC(=O)OCC1c2ccccc2-c2ccccc21)c1c...   \n",
       "1   74421894     O=C(NC(Cc1ccccc1)C(=O)O)OCC1c2ccccc2-c2ccccc21   \n",
       "2   39088515     COc1cccc(C(=O)O)c1NC(=O)OCC1c2ccccc2-c2ccccc21   \n",
       "3  200252673     O=C(Nc1ccc(Cl)nc1C(=O)O)OCC1c2ccccc2-c2ccccc21   \n",
       "4   17697678        CC(C)CC(NC(=O)OCC1c2ccccc2-c2ccccc21)C(=O)O   \n",
       "\n",
       "             buildingblock2_smiles       buildingblock3_smiles  \\\n",
       "0              CNC(=O)c1ccc(N)cc1F               Nc1cc(Br)ccn1   \n",
       "1                    Cc1c(N)cccc1F        Nc1cc(Cl)c(O)c(Cl)c1   \n",
       "2               Nc1ccc2c(c1)CNC2=O           NCc1nc2c(s1)CCCC2   \n",
       "3  Nc1cc(N2CCNCC2)ccc1[N+](=O)[O-]            Nc1cc[nH]c(=O)n1   \n",
       "4                  COc1ccc(N)cc1OC  Cl.Cl.NCc1ccc(-n2cncn2)cc1   \n",
       "\n",
       "                                     molecule_smiles protein_name  binds  \\\n",
       "0  CNC(=O)c1ccc(Nc2nc(Nc3cc(Br)ccn3)nc(N[C@H](CC(...         BRD4      1   \n",
       "1  Cc1c(F)cccc1Nc1nc(Nc2cc(Cl)c(O)c(Cl)c2)nc(NC(C...         BRD4      1   \n",
       "2  COc1cccc(C(=O)N[Dy])c1Nc1nc(NCc2nc3c(s2)CCCC3)...         BRD4      1   \n",
       "3  O=C(N[Dy])c1nc(Cl)ccc1Nc1nc(Nc2cc[nH]c(=O)n2)n...         BRD4      1   \n",
       "4  COc1ccc(Nc2nc(NCc3ccc(-n4cncn4)cc3)nc(NC(CC(C)...         BRD4      1   \n",
       "\n",
       "                                        molecule  \n",
       "0  <rdkit.Chem.rdchem.Mol object at 0x17aaa0580>  \n",
       "1  <rdkit.Chem.rdchem.Mol object at 0x17aaa02e0>  \n",
       "2  <rdkit.Chem.rdchem.Mol object at 0x17aaa05f0>  \n",
       "3  <rdkit.Chem.rdchem.Mol object at 0x17aaa0660>  \n",
       "4  <rdkit.Chem.rdchem.Mol object at 0x17aaa06d0>  "
      ]
     },
     "execution_count": 81,
     "metadata": {},
     "output_type": "execute_result"
    }
   ],
   "source": [
    "df['molecule'] = df['molecule_smiles'].apply(Chem.MolFromSmiles)\n",
    "df.head()"
   ]
  },
  {
   "cell_type": "code",
   "execution_count": 83,
   "id": "108581bb-3ed5-425b-962e-1aa41d684c85",
   "metadata": {
    "tags": []
   },
   "outputs": [
    {
     "data": {
      "image/png": "[encoded data removed]",
      "text/plain": [
       "<rdkit.Chem.rdchem.Mol at 0x17aaa0580>"
      ]
     },
     "execution_count": 83,
     "metadata": {},
     "output_type": "execute_result"
    }
   ],
   "source": [
    "df['molecule'][0]"
   ]
  },
  {
   "cell_type": "code",
   "execution_count": 85,
   "id": "c71353fd-a1d3-46a7-ab14-0144ee23ac4b",
   "metadata": {
    "tags": []
   },
   "outputs": [],
   "source": [
    "# Generate ECFPs\n",
    "\n",
    "from rdkit.Chem import rdFingerprintGenerator\n",
    "\n",
    "mfpgen = rdFingerprintGenerator.GetMorganGenerator(radius=2,fpSize=2048)\n",
    "\n",
    "df['ecfp'] = df['molecule'].apply(mfpgen.GetFingerprint).apply(lambda bitvec: list(bitvec))"
   ]
  },
  {
   "cell_type": "code",
   "execution_count": 139,
   "id": "1cda6339-df21-4d43-b09d-f7b9501db8a7",
   "metadata": {
    "tags": []
   },
   "outputs": [
    {
     "data": {
      "text/plain": [
       "0    [0, 1, 0, 0, 0, 0, 0, 0, 0, 0, 0, 0, 0, 0, 0, ...\n",
       "1    [0, 1, 0, 0, 0, 0, 0, 0, 0, 0, 0, 0, 0, 0, 0, ...\n",
       "2    [0, 0, 0, 0, 0, 0, 0, 0, 0, 0, 0, 0, 0, 0, 0, ...\n",
       "3    [0, 0, 0, 0, 0, 0, 0, 0, 0, 0, 0, 0, 0, 0, 0, ...\n",
       "4    [0, 1, 0, 0, 0, 0, 0, 0, 0, 0, 0, 0, 0, 0, 0, ...\n",
       "Name: molecule, dtype: object"
      ]
     },
     "execution_count": 139,
     "metadata": {},
     "output_type": "execute_result"
    }
   ],
   "source": [
    "ecfp_test = df['molecule'].apply(mfpgen.GetFingerprint)\n",
    "ecfp_test.head()"
   ]
  },
  {
   "cell_type": "code",
   "execution_count": 141,
   "id": "122bb492-3c31-4b82-8ba2-cbab185d74f0",
   "metadata": {
    "tags": []
   },
   "outputs": [
    {
     "data": {
      "text/plain": [
       "rdkit.DataStructs.cDataStructs.ExplicitBitVect"
      ]
     },
     "execution_count": 141,
     "metadata": {},
     "output_type": "execute_result"
    }
   ],
   "source": [
    "type(ecfp_test[0])"
   ]
  },
  {
   "cell_type": "code",
   "execution_count": 143,
   "id": "7cef16d7-32e3-465f-b6d6-ccf6c5aaa113",
   "metadata": {
    "tags": []
   },
   "outputs": [
    {
     "data": {
      "text/plain": [
       "0    [0, 1, 0, 0, 0, 0, 0, 0, 0, 0, 0, 0, 0, 0, 0, ...\n",
       "1    [0, 1, 0, 0, 0, 0, 0, 0, 0, 0, 0, 0, 0, 0, 0, ...\n",
       "2    [0, 0, 0, 0, 0, 0, 0, 0, 0, 0, 0, 0, 0, 0, 0, ...\n",
       "3    [0, 0, 0, 0, 0, 0, 0, 0, 0, 0, 0, 0, 0, 0, 0, ...\n",
       "4    [0, 1, 0, 0, 0, 0, 0, 0, 0, 0, 0, 0, 0, 0, 0, ...\n",
       "Name: ecfp, dtype: object"
      ]
     },
     "execution_count": 143,
     "metadata": {},
     "output_type": "execute_result"
    }
   ],
   "source": [
    "df['ecfp'].head()"
   ]
  },
  {
   "cell_type": "code",
   "execution_count": 145,
   "id": "aee0a7ad-8376-4759-946e-00c0286cc22b",
   "metadata": {
    "tags": []
   },
   "outputs": [
    {
     "data": {
      "text/plain": [
       "False"
      ]
     },
     "execution_count": 145,
     "metadata": {},
     "output_type": "execute_result"
    }
   ],
   "source": [
    "ecfp_test[0] == df['ecfp'][0]"
   ]
  },
  {
   "cell_type": "code",
   "execution_count": 147,
   "id": "5a690057-ef32-416b-9d4c-f6003957f294",
   "metadata": {
    "tags": []
   },
   "outputs": [
    {
     "data": {
      "text/plain": [
       "<rdkit.DataStructs.cDataStructs.ExplicitBitVect at 0x160785af0>"
      ]
     },
     "execution_count": 147,
     "metadata": {},
     "output_type": "execute_result"
    }
   ],
   "source": [
    "ecfp_test[0]"
   ]
  },
  {
   "cell_type": "code",
   "execution_count": 151,
   "id": "a1e35ed3-4dcf-4bdd-85e9-a8202725995e",
   "metadata": {
    "tags": []
   },
   "outputs": [
    {
     "data": {
      "text/plain": [
       "list"
      ]
     },
     "execution_count": 151,
     "metadata": {},
     "output_type": "execute_result"
    }
   ],
   "source": [
    "type(df['ecfp'][0])"
   ]
  },
  {
   "cell_type": "code",
   "execution_count": 86,
   "id": "4789bc83-73b6-4813-9e55-5360d3c15f6f",
   "metadata": {
    "tags": []
   },
   "outputs": [
    {
     "data": {
      "text/html": [
       "<div>\n",
       "<style scoped>\n",
       "    .dataframe tbody tr th:only-of-type {\n",
       "        vertical-align: middle;\n",
       "    }\n",
       "\n",
       "    .dataframe tbody tr th {\n",
       "        vertical-align: top;\n",
       "    }\n",
       "\n",
       "    .dataframe thead th {\n",
       "        text-align: right;\n",
       "    }\n",
       "</style>\n",
       "<table border=\"1\" class=\"dataframe\">\n",
       "  <thead>\n",
       "    <tr style=\"text-align: right;\">\n",
       "      <th></th>\n",
       "      <th>id</th>\n",
       "      <th>buildingblock1_smiles</th>\n",
       "      <th>buildingblock2_smiles</th>\n",
       "      <th>buildingblock3_smiles</th>\n",
       "      <th>molecule_smiles</th>\n",
       "      <th>protein_name</th>\n",
       "      <th>binds</th>\n",
       "      <th>molecule</th>\n",
       "      <th>ecfp</th>\n",
       "    </tr>\n",
       "  </thead>\n",
       "  <tbody>\n",
       "    <tr>\n",
       "      <th>0</th>\n",
       "      <td>255104868</td>\n",
       "      <td>O=C(O)C[C@@H](NC(=O)OCC1c2ccccc2-c2ccccc21)c1c...</td>\n",
       "      <td>CNC(=O)c1ccc(N)cc1F</td>\n",
       "      <td>Nc1cc(Br)ccn1</td>\n",
       "      <td>CNC(=O)c1ccc(Nc2nc(Nc3cc(Br)ccn3)nc(N[C@H](CC(...</td>\n",
       "      <td>BRD4</td>\n",
       "      <td>1</td>\n",
       "      <td>&lt;rdkit.Chem.rdchem.Mol object at 0x17aaa0580&gt;</td>\n",
       "      <td>[0, 1, 0, 0, 0, 0, 0, 0, 0, 0, 0, 0, 0, 0, 0, ...</td>\n",
       "    </tr>\n",
       "    <tr>\n",
       "      <th>1</th>\n",
       "      <td>74421894</td>\n",
       "      <td>O=C(NC(Cc1ccccc1)C(=O)O)OCC1c2ccccc2-c2ccccc21</td>\n",
       "      <td>Cc1c(N)cccc1F</td>\n",
       "      <td>Nc1cc(Cl)c(O)c(Cl)c1</td>\n",
       "      <td>Cc1c(F)cccc1Nc1nc(Nc2cc(Cl)c(O)c(Cl)c2)nc(NC(C...</td>\n",
       "      <td>BRD4</td>\n",
       "      <td>1</td>\n",
       "      <td>&lt;rdkit.Chem.rdchem.Mol object at 0x17aaa02e0&gt;</td>\n",
       "      <td>[0, 1, 0, 0, 0, 0, 0, 0, 0, 0, 0, 0, 0, 0, 0, ...</td>\n",
       "    </tr>\n",
       "    <tr>\n",
       "      <th>2</th>\n",
       "      <td>39088515</td>\n",
       "      <td>COc1cccc(C(=O)O)c1NC(=O)OCC1c2ccccc2-c2ccccc21</td>\n",
       "      <td>Nc1ccc2c(c1)CNC2=O</td>\n",
       "      <td>NCc1nc2c(s1)CCCC2</td>\n",
       "      <td>COc1cccc(C(=O)N[Dy])c1Nc1nc(NCc2nc3c(s2)CCCC3)...</td>\n",
       "      <td>BRD4</td>\n",
       "      <td>1</td>\n",
       "      <td>&lt;rdkit.Chem.rdchem.Mol object at 0x17aaa05f0&gt;</td>\n",
       "      <td>[0, 0, 0, 0, 0, 0, 0, 0, 0, 0, 0, 0, 0, 0, 0, ...</td>\n",
       "    </tr>\n",
       "    <tr>\n",
       "      <th>3</th>\n",
       "      <td>200252673</td>\n",
       "      <td>O=C(Nc1ccc(Cl)nc1C(=O)O)OCC1c2ccccc2-c2ccccc21</td>\n",
       "      <td>Nc1cc(N2CCNCC2)ccc1[N+](=O)[O-]</td>\n",
       "      <td>Nc1cc[nH]c(=O)n1</td>\n",
       "      <td>O=C(N[Dy])c1nc(Cl)ccc1Nc1nc(Nc2cc[nH]c(=O)n2)n...</td>\n",
       "      <td>BRD4</td>\n",
       "      <td>1</td>\n",
       "      <td>&lt;rdkit.Chem.rdchem.Mol object at 0x17aaa0660&gt;</td>\n",
       "      <td>[0, 0, 0, 0, 0, 0, 0, 0, 0, 0, 0, 0, 0, 0, 0, ...</td>\n",
       "    </tr>\n",
       "    <tr>\n",
       "      <th>4</th>\n",
       "      <td>17697678</td>\n",
       "      <td>CC(C)CC(NC(=O)OCC1c2ccccc2-c2ccccc21)C(=O)O</td>\n",
       "      <td>COc1ccc(N)cc1OC</td>\n",
       "      <td>Cl.Cl.NCc1ccc(-n2cncn2)cc1</td>\n",
       "      <td>COc1ccc(Nc2nc(NCc3ccc(-n4cncn4)cc3)nc(NC(CC(C)...</td>\n",
       "      <td>BRD4</td>\n",
       "      <td>1</td>\n",
       "      <td>&lt;rdkit.Chem.rdchem.Mol object at 0x17aaa06d0&gt;</td>\n",
       "      <td>[0, 1, 0, 0, 0, 0, 0, 0, 0, 0, 0, 0, 0, 0, 0, ...</td>\n",
       "    </tr>\n",
       "  </tbody>\n",
       "</table>\n",
       "</div>"
      ],
      "text/plain": [
       "          id                              buildingblock1_smiles  \\\n",
       "0  255104868  O=C(O)C[C@@H](NC(=O)OCC1c2ccccc2-c2ccccc21)c1c...   \n",
       "1   74421894     O=C(NC(Cc1ccccc1)C(=O)O)OCC1c2ccccc2-c2ccccc21   \n",
       "2   39088515     COc1cccc(C(=O)O)c1NC(=O)OCC1c2ccccc2-c2ccccc21   \n",
       "3  200252673     O=C(Nc1ccc(Cl)nc1C(=O)O)OCC1c2ccccc2-c2ccccc21   \n",
       "4   17697678        CC(C)CC(NC(=O)OCC1c2ccccc2-c2ccccc21)C(=O)O   \n",
       "\n",
       "             buildingblock2_smiles       buildingblock3_smiles  \\\n",
       "0              CNC(=O)c1ccc(N)cc1F               Nc1cc(Br)ccn1   \n",
       "1                    Cc1c(N)cccc1F        Nc1cc(Cl)c(O)c(Cl)c1   \n",
       "2               Nc1ccc2c(c1)CNC2=O           NCc1nc2c(s1)CCCC2   \n",
       "3  Nc1cc(N2CCNCC2)ccc1[N+](=O)[O-]            Nc1cc[nH]c(=O)n1   \n",
       "4                  COc1ccc(N)cc1OC  Cl.Cl.NCc1ccc(-n2cncn2)cc1   \n",
       "\n",
       "                                     molecule_smiles protein_name  binds  \\\n",
       "0  CNC(=O)c1ccc(Nc2nc(Nc3cc(Br)ccn3)nc(N[C@H](CC(...         BRD4      1   \n",
       "1  Cc1c(F)cccc1Nc1nc(Nc2cc(Cl)c(O)c(Cl)c2)nc(NC(C...         BRD4      1   \n",
       "2  COc1cccc(C(=O)N[Dy])c1Nc1nc(NCc2nc3c(s2)CCCC3)...         BRD4      1   \n",
       "3  O=C(N[Dy])c1nc(Cl)ccc1Nc1nc(Nc2cc[nH]c(=O)n2)n...         BRD4      1   \n",
       "4  COc1ccc(Nc2nc(NCc3ccc(-n4cncn4)cc3)nc(NC(CC(C)...         BRD4      1   \n",
       "\n",
       "                                        molecule  \\\n",
       "0  <rdkit.Chem.rdchem.Mol object at 0x17aaa0580>   \n",
       "1  <rdkit.Chem.rdchem.Mol object at 0x17aaa02e0>   \n",
       "2  <rdkit.Chem.rdchem.Mol object at 0x17aaa05f0>   \n",
       "3  <rdkit.Chem.rdchem.Mol object at 0x17aaa0660>   \n",
       "4  <rdkit.Chem.rdchem.Mol object at 0x17aaa06d0>   \n",
       "\n",
       "                                                ecfp  \n",
       "0  [0, 1, 0, 0, 0, 0, 0, 0, 0, 0, 0, 0, 0, 0, 0, ...  \n",
       "1  [0, 1, 0, 0, 0, 0, 0, 0, 0, 0, 0, 0, 0, 0, 0, ...  \n",
       "2  [0, 0, 0, 0, 0, 0, 0, 0, 0, 0, 0, 0, 0, 0, 0, ...  \n",
       "3  [0, 0, 0, 0, 0, 0, 0, 0, 0, 0, 0, 0, 0, 0, 0, ...  \n",
       "4  [0, 1, 0, 0, 0, 0, 0, 0, 0, 0, 0, 0, 0, 0, 0, ...  "
      ]
     },
     "execution_count": 86,
     "metadata": {},
     "output_type": "execute_result"
    }
   ],
   "source": [
    "df.head()"
   ]
  },
  {
   "cell_type": "code",
   "execution_count": 91,
   "id": "8b103a4d-6587-45ec-b69a-a8724d1632bb",
   "metadata": {
    "tags": []
   },
   "outputs": [
    {
     "data": {
      "text/plain": [
       "(60000, 2048)"
      ]
     },
     "execution_count": 91,
     "metadata": {},
     "output_type": "execute_result"
    }
   ],
   "source": [
    "X = np.array(df['ecfp'].to_list())\n",
    "X.shape"
   ]
  },
  {
   "cell_type": "code",
   "execution_count": 93,
   "id": "c5a684d0-e7a9-4712-b9e9-2e850b076b06",
   "metadata": {
    "tags": []
   },
   "outputs": [
    {
     "data": {
      "text/plain": [
       "array([[0, 1, 0, ..., 0, 0, 0],\n",
       "       [0, 1, 0, ..., 0, 0, 0],\n",
       "       [0, 0, 0, ..., 0, 0, 0],\n",
       "       [0, 0, 0, ..., 0, 0, 0],\n",
       "       [0, 1, 0, ..., 0, 0, 0]])"
      ]
     },
     "execution_count": 93,
     "metadata": {},
     "output_type": "execute_result"
    }
   ],
   "source": [
    "X[:5]"
   ]
  },
  {
   "cell_type": "code",
   "execution_count": null,
   "id": "0a01329b-69f3-4557-b573-0e0373f6cf13",
   "metadata": {},
   "outputs": [],
   "source": []
  },
  {
   "cell_type": "code",
   "execution_count": 95,
   "id": "cd8f5481-c575-4b65-b29f-286bac58b94f",
   "metadata": {
    "tags": []
   },
   "outputs": [],
   "source": [
    "y = df['binds']"
   ]
  },
  {
   "cell_type": "code",
   "execution_count": 97,
   "id": "3c876d54-3710-4f41-9771-70154df27534",
   "metadata": {
    "tags": []
   },
   "outputs": [],
   "source": [
    "from sklearn.model_selection import train_test_split \n",
    "from sklearn.ensemble import RandomForestClassifier\n",
    "from sklearn.metrics import confusion_matrix\n",
    "from sklearn.metrics import ConfusionMatrixDisplay\n",
    "\n",
    "import seaborn as sns"
   ]
  },
  {
   "cell_type": "code",
   "execution_count": 99,
   "id": "d8682c9f-6c02-48b6-92e6-6212035819da",
   "metadata": {
    "tags": []
   },
   "outputs": [
    {
     "data": {
      "text/plain": [
       "(48000, 2048)"
      ]
     },
     "execution_count": 99,
     "metadata": {},
     "output_type": "execute_result"
    }
   ],
   "source": [
    "X_train, X_test, y_train, y_test = train_test_split(X, y, test_size=0.2, random_state=33)\n",
    "X_train.shape"
   ]
  },
  {
   "cell_type": "code",
   "execution_count": 101,
   "id": "f2f616e6-2d52-4afe-99a2-1e57a99a2a2e",
   "metadata": {
    "tags": []
   },
   "outputs": [
    {
     "data": {
      "text/plain": [
       "(48000,)"
      ]
     },
     "execution_count": 101,
     "metadata": {},
     "output_type": "execute_result"
    }
   ],
   "source": [
    "y_train.shape"
   ]
  },
  {
   "cell_type": "code",
   "execution_count": 103,
   "id": "0be0e8fb-5664-49d9-95fb-9abea5bee281",
   "metadata": {
    "tags": []
   },
   "outputs": [
    {
     "data": {
      "text/html": [
       "<style>#sk-container-id-1 {color: black;background-color: white;}#sk-container-id-1 pre{padding: 0;}#sk-container-id-1 div.sk-toggleable {background-color: white;}#sk-container-id-1 label.sk-toggleable__label {cursor: pointer;display: block;width: 100%;margin-bottom: 0;padding: 0.3em;box-sizing: border-box;text-align: center;}#sk-container-id-1 label.sk-toggleable__label-arrow:before {content: \"▸\";float: left;margin-right: 0.25em;color: #696969;}#sk-container-id-1 label.sk-toggleable__label-arrow:hover:before {color: black;}#sk-container-id-1 div.sk-estimator:hover label.sk-toggleable__label-arrow:before {color: black;}#sk-container-id-1 div.sk-toggleable__content {max-height: 0;max-width: 0;overflow: hidden;text-align: left;background-color: #f0f8ff;}#sk-container-id-1 div.sk-toggleable__content pre {margin: 0.2em;color: black;border-radius: 0.25em;background-color: #f0f8ff;}#sk-container-id-1 input.sk-toggleable__control:checked~div.sk-toggleable__content {max-height: 200px;max-width: 100%;overflow: auto;}#sk-container-id-1 input.sk-toggleable__control:checked~label.sk-toggleable__label-arrow:before {content: \"▾\";}#sk-container-id-1 div.sk-estimator input.sk-toggleable__control:checked~label.sk-toggleable__label {background-color: #d4ebff;}#sk-container-id-1 div.sk-label input.sk-toggleable__control:checked~label.sk-toggleable__label {background-color: #d4ebff;}#sk-container-id-1 input.sk-hidden--visually {border: 0;clip: rect(1px 1px 1px 1px);clip: rect(1px, 1px, 1px, 1px);height: 1px;margin: -1px;overflow: hidden;padding: 0;position: absolute;width: 1px;}#sk-container-id-1 div.sk-estimator {font-family: monospace;background-color: #f0f8ff;border: 1px dotted black;border-radius: 0.25em;box-sizing: border-box;margin-bottom: 0.5em;}#sk-container-id-1 div.sk-estimator:hover {background-color: #d4ebff;}#sk-container-id-1 div.sk-parallel-item::after {content: \"\";width: 100%;border-bottom: 1px solid gray;flex-grow: 1;}#sk-container-id-1 div.sk-label:hover label.sk-toggleable__label {background-color: #d4ebff;}#sk-container-id-1 div.sk-serial::before {content: \"\";position: absolute;border-left: 1px solid gray;box-sizing: border-box;top: 0;bottom: 0;left: 50%;z-index: 0;}#sk-container-id-1 div.sk-serial {display: flex;flex-direction: column;align-items: center;background-color: white;padding-right: 0.2em;padding-left: 0.2em;position: relative;}#sk-container-id-1 div.sk-item {position: relative;z-index: 1;}#sk-container-id-1 div.sk-parallel {display: flex;align-items: stretch;justify-content: center;background-color: white;position: relative;}#sk-container-id-1 div.sk-item::before, #sk-container-id-1 div.sk-parallel-item::before {content: \"\";position: absolute;border-left: 1px solid gray;box-sizing: border-box;top: 0;bottom: 0;left: 50%;z-index: -1;}#sk-container-id-1 div.sk-parallel-item {display: flex;flex-direction: column;z-index: 1;position: relative;background-color: white;}#sk-container-id-1 div.sk-parallel-item:first-child::after {align-self: flex-end;width: 50%;}#sk-container-id-1 div.sk-parallel-item:last-child::after {align-self: flex-start;width: 50%;}#sk-container-id-1 div.sk-parallel-item:only-child::after {width: 0;}#sk-container-id-1 div.sk-dashed-wrapped {border: 1px dashed gray;margin: 0 0.4em 0.5em 0.4em;box-sizing: border-box;padding-bottom: 0.4em;background-color: white;}#sk-container-id-1 div.sk-label label {font-family: monospace;font-weight: bold;display: inline-block;line-height: 1.2em;}#sk-container-id-1 div.sk-label-container {text-align: center;}#sk-container-id-1 div.sk-container {/* jupyter's `normalize.less` sets `[hidden] { display: none; }` but bootstrap.min.css set `[hidden] { display: none !important; }` so we also need the `!important` here to be able to override the default hidden behavior on the sphinx rendered scikit-learn.org. See: https://github.com/scikit-learn/scikit-learn/issues/21755 */display: inline-block !important;position: relative;}#sk-container-id-1 div.sk-text-repr-fallback {display: none;}</style><div id=\"sk-container-id-1\" class=\"sk-top-container\"><div class=\"sk-text-repr-fallback\"><pre>RandomForestClassifier(n_jobs=4)</pre><b>In a Jupyter environment, please rerun this cell to show the HTML representation or trust the notebook. <br />On GitHub, the HTML representation is unable to render, please try loading this page with nbviewer.org.</b></div><div class=\"sk-container\" hidden><div class=\"sk-item\"><div class=\"sk-estimator sk-toggleable\"><input class=\"sk-toggleable__control sk-hidden--visually\" id=\"sk-estimator-id-1\" type=\"checkbox\" checked><label for=\"sk-estimator-id-1\" class=\"sk-toggleable__label sk-toggleable__label-arrow\">RandomForestClassifier</label><div class=\"sk-toggleable__content\"><pre>RandomForestClassifier(n_jobs=4)</pre></div></div></div></div></div>"
      ],
      "text/plain": [
       "RandomForestClassifier(n_jobs=4)"
      ]
     },
     "execution_count": 103,
     "metadata": {},
     "output_type": "execute_result"
    }
   ],
   "source": [
    "clf = RandomForestClassifier(n_estimators=100, n_jobs=4)\n",
    "clf.fit(X_train, y_train)"
   ]
  },
  {
   "cell_type": "code",
   "execution_count": 105,
   "id": "1293e75f-209c-4f40-adf1-2d39ee02b9d9",
   "metadata": {
    "tags": []
   },
   "outputs": [],
   "source": [
    "y_hat = clf.predict(X_test)"
   ]
  },
  {
   "cell_type": "code",
   "execution_count": 107,
   "id": "9dedf5bb-d5e3-4cc2-aca1-6c9ebb87354a",
   "metadata": {
    "tags": []
   },
   "outputs": [
    {
     "data": {
      "image/png": "[encoded data removed]",
      "text/plain": [
       "<Figure size 640x480 with 2 Axes>"
      ]
     },
     "metadata": {},
     "output_type": "display_data"
    }
   ],
   "source": [
    "cm = confusion_matrix(y_test, y_hat)\n",
    "cmp = ConfusionMatrixDisplay(confusion_matrix=cm, display_labels=clf.classes_)\n",
    "cmp.plot()\n",
    "plt.show()"
   ]
  },
  {
   "cell_type": "code",
   "execution_count": 130,
   "id": "00dbfe7f-408f-4721-a483-fd2196fb7865",
   "metadata": {
    "tags": []
   },
   "outputs": [
    {
     "name": "stdout",
     "output_type": "stream",
     "text": [
      "Accuracy: 0.92\n",
      "Precision: 0.92\n",
      "F1 score: 0.91\n"
     ]
    }
   ],
   "source": [
    "from sklearn.metrics import accuracy_score, precision_score, f1_score\n",
    "\n",
    "acc = accuracy_score(y_test, y_hat)\n",
    "prc = precision_score(y_test, y_hat)\n",
    "f1s = f1_score(y_test, y_hat)\n",
    "\n",
    "print('Accuracy: %.2f' % acc)\n",
    "print('Precision: %.2f' % prc)\n",
    "print('F1 score: %.2f' % f1s)"
   ]
  },
  {
   "cell_type": "markdown",
   "id": "2a67699d-764b-44d6-bb82-f32bb9fc82ae",
   "metadata": {},
   "source": [
    "Next steps"
   ]
  },
  {
   "cell_type": "code",
   "execution_count": null,
   "id": "92521ec0-17e3-482d-b221-aeaced045ae2",
   "metadata": {},
   "outputs": [],
   "source": [
    "# option 1: make multiple dfs (but will this take up all my memory) \n",
    "# option 2: make UDFs and do conversions with duckdb \n",
    "# get id, molecule_smiles, protein_name, and binds from train.parquet \n",
    "# convert molecule_smiles to molecule \n",
    "# get ECFP \n",
    "# divide dataset into training and test set \n",
    "# considerations: ratio between binds=0 and binds=1 in training data?\n"
   ]
  },
  {
   "cell_type": "code",
   "execution_count": null,
   "id": "acc51b92-eda4-4b40-9e57-571fecb048ba",
   "metadata": {},
   "outputs": [],
   "source": [
    "# full training for BRD4 binding classifier \n",
    "# I do wonder if I'll need to use Spark after all "
   ]
  },
  {
   "cell_type": "code",
   "execution_count": null,
   "id": "9593aecc-8dfa-40e0-a15c-aceb0dca9322",
   "metadata": {},
   "outputs": [],
   "source": [
    "# full training for HSA binding classifier "
   ]
  },
  {
   "cell_type": "code",
   "execution_count": null,
   "id": "ebda1b80-9ccc-4b95-a8a8-41cb67a2bd4c",
   "metadata": {},
   "outputs": [],
   "source": [
    "# full training for sEH binding classifier "
   ]
  },
  {
   "cell_type": "code",
   "execution_count": null,
   "id": "5aace875-1841-4dfe-b84b-602d228c1370",
   "metadata": {},
   "outputs": [],
   "source": []
  },
  {
   "cell_type": "code",
   "execution_count": null,
   "id": "a774a216-2a0e-4676-80ae-2af571586012",
   "metadata": {},
   "outputs": [],
   "source": [
    "# for the test set (for submission) \n",
    "\n",
    "# process data (molecule_smiles > molecule > ECFP)\n",
    "# predict binding based on protein_name "
   ]
  }
 ],
 "metadata": {
  "kernelspec": {
   "display_name": "Python 3 (ipykernel)",
   "language": "python",
   "name": "python3"
  },
  "language_info": {
   "codemirror_mode": {
    "name": "ipython",
    "version": 3
   },
   "file_extension": ".py",
   "mimetype": "text/x-python",
   "name": "python",
   "nbconvert_exporter": "python",
   "pygments_lexer": "ipython3",
   "version": "3.11.9"
  }
 },
 "nbformat": 4,
 "nbformat_minor": 5
}
